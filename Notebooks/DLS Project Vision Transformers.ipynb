{
 "cells": [
  {
   "cell_type": "code",
   "execution_count": 1,
   "id": "da607f4d",
   "metadata": {},
   "outputs": [],
   "source": [
    "import sklearn\n",
    "import pandas as pd\n",
    "import sys\n",
    "import os\n",
    "import matplotlib.pyplot as plt\n",
    "from sklearn.decomposition import PCA\n",
    "from sklearn.preprocessing import LabelEncoder\n",
    "from scipy.spatial import procrustes\n",
    "from sklearn.manifold import TSNE\n",
    "from sklearn.manifold import LocallyLinearEmbedding\n",
    "from sklearn.manifold import MDS\n",
    "import numpy as np\n",
    "import warnings\n",
    "import tensorflow as tf\n",
    "warnings.filterwarnings('ignore')\n",
    "\n",
    "plt.rc('font', size=14)\n",
    "plt.rc('axes', labelsize=14, titlesize=14)\n",
    "plt.rc('legend', fontsize=14)\n",
    "plt.rc('xtick', labelsize=10)\n",
    "plt.rc('ytick', labelsize=10)"
   ]
  },
  {
   "cell_type": "code",
   "execution_count": 2,
   "id": "a92ff657",
   "metadata": {},
   "outputs": [],
   "source": [
    "from pathlib import Path\n",
    "\n",
    "IMAGES_PATH = Path() / \"images\" / \"dim_reduction\"\n",
    "IMAGES_PATH.mkdir(parents=True, exist_ok=True)\n",
    "\n",
    "def save_fig(fig_id, tight_layout=True, fig_extension=\"png\", resolution=300):\n",
    "    path = IMAGES_PATH / f\"{fig_id}.{fig_extension}\"\n",
    "    if tight_layout:\n",
    "        plt.tight_layout()\n",
    "    plt.savefig(path, format=fig_extension, dpi=resolution)"
   ]
  },
  {
   "cell_type": "code",
   "execution_count": 3,
   "id": "1fc9f956",
   "metadata": {},
   "outputs": [],
   "source": [
    "import cv2\n",
    "import os\n",
    "\n",
    "def load_images_from_folder(folder):\n",
    "    images = []\n",
    "    for filename in os.listdir(folder):\n",
    "        img = cv2.imread(os.path.join(folder,filename))\n",
    "        grayscale_image = cv2.cvtColor(img, cv2.COLOR_BGR2GRAY)\n",
    "        if img is not None:\n",
    "            images.append(cv2.resize(grayscale_image,(800,800)))\n",
    "    return np.array(images)\n",
    "\n",
    "def load_images_from_folder_rgb(folder):\n",
    "    images = []\n",
    "    for filename in os.listdir(folder):\n",
    "        img = cv2.imread(os.path.join(folder,filename))\n",
    "        if img is not None:\n",
    "            images.append(cv2.resize(img,(224,224)))\n",
    "    return np.array(images)\n",
    "\n",
    "def load_labels_from_folder(folder):\n",
    "    labels = []\n",
    "    for filename in os.listdir(folder):\n",
    "        label = filename.split('_')[0]\n",
    "        labels.append(label)\n",
    "    return labels"
   ]
  },
  {
   "cell_type": "code",
   "execution_count": 4,
   "id": "d3a3b74d",
   "metadata": {},
   "outputs": [],
   "source": [
    "img_360 = load_images_from_folder(\"D:\\\\IU\\\\Classes\\\\Fall 23\\\\AML\\\\Assignment 4\\\\360 Rocks\\\\\")\n",
    "img_360_labels = load_labels_from_folder(\"D:\\\\IU\\\\Classes\\\\Fall 23\\\\AML\\\\Assignment 4\\\\360 Rocks\\\\\")\n",
    "img_360_rgb = load_images_from_folder_rgb(\"D:\\\\IU\\\\Classes\\\\Fall 23\\\\AML\\\\Assignment 4\\\\360 Rocks\\\\\")\n",
    "img_120 = load_images_from_folder(\"D:\\\\IU\\\\Classes\\\\Fall 23\\\\AML\\\\Assignment 4\\\\120 Rocks\\\\\")\n",
    "img_120_rgb = load_images_from_folder_rgb(\"D:\\\\IU\\\\Classes\\\\Fall 23\\\\AML\\\\Assignment 4\\\\120 Rocks\\\\\")\n",
    "img_120_labels = load_labels_from_folder(\"D:\\\\IU\\\\Classes\\\\Fall 23\\\\AML\\\\Assignment 4\\\\120 Rocks\\\\\")"
   ]
  },
  {
   "cell_type": "code",
   "execution_count": 5,
   "id": "74b63b3a",
   "metadata": {},
   "outputs": [],
   "source": [
    "flattened_image = img_360.reshape(360, -1)"
   ]
  },
  {
   "cell_type": "code",
   "execution_count": 6,
   "id": "08654127",
   "metadata": {},
   "outputs": [
    {
     "data": {
      "text/plain": [
       "(360, 640000)"
      ]
     },
     "execution_count": 6,
     "metadata": {},
     "output_type": "execute_result"
    }
   ],
   "source": [
    "flattened_image.shape"
   ]
  },
  {
   "cell_type": "code",
   "execution_count": 7,
   "id": "d65f7919",
   "metadata": {},
   "outputs": [],
   "source": [
    "flattened_image_rgb = img_360_rgb.reshape(360, -1)"
   ]
  },
  {
   "cell_type": "code",
   "execution_count": 8,
   "id": "191fb7e3",
   "metadata": {},
   "outputs": [
    {
     "data": {
      "text/plain": [
       "(360, 150528)"
      ]
     },
     "execution_count": 8,
     "metadata": {},
     "output_type": "execute_result"
    }
   ],
   "source": [
    "flattened_image_rgb.shape"
   ]
  },
  {
   "cell_type": "code",
   "execution_count": 9,
   "id": "91b60f03",
   "metadata": {},
   "outputs": [],
   "source": [
    "label_encoder = LabelEncoder()\n",
    "encoded_labels = label_encoder.fit_transform(img_360_labels)\n",
    "val_labels = label_encoder.fit_transform(img_120_labels)"
   ]
  },
  {
   "cell_type": "code",
   "execution_count": 10,
   "id": "a1db2cbd",
   "metadata": {},
   "outputs": [],
   "source": [
    "with open('mds_360.txt','r') as f:\n",
    "    arr = f.read().strip().split('\\n')"
   ]
  },
  {
   "cell_type": "code",
   "execution_count": 11,
   "id": "058e1066",
   "metadata": {},
   "outputs": [],
   "source": [
    "mds_features = []\n",
    "for i in arr:\n",
    "    mds_features.append(i.strip().split('  '))"
   ]
  },
  {
   "cell_type": "code",
   "execution_count": 12,
   "id": "80b98ca7",
   "metadata": {},
   "outputs": [
    {
     "data": {
      "text/plain": [
       "(360, 8)"
      ]
     },
     "execution_count": 12,
     "metadata": {},
     "output_type": "execute_result"
    }
   ],
   "source": [
    "mds_features = np.array(mds_features)\n",
    "mds_features.shape"
   ]
  },
  {
   "cell_type": "code",
   "execution_count": 13,
   "id": "10169812",
   "metadata": {},
   "outputs": [],
   "source": [
    "import tensorflow as tf\n",
    "import keras\n",
    "from keras.models import Sequential\n",
    "from keras.layers import Dense, InputLayer, Flatten, Conv2D, MaxPooling2D, BatchNormalization, Dropout\n",
    "from keras.regularizers import Regularizer\n",
    "from keras.callbacks import EarlyStopping\n",
    "import gc"
   ]
  },
  {
   "cell_type": "code",
   "execution_count": 14,
   "id": "b0602d54",
   "metadata": {},
   "outputs": [
    {
     "data": {
      "application/vnd.jupyter.widget-view+json": {
       "model_id": "8e7584d523df4c5d8c660c2ed06b7566",
       "version_major": 2,
       "version_minor": 0
      },
      "text/plain": [
       "VBox(children=(HTML(value='<center> <img\\nsrc=https://huggingface.co/front/assets/huggingface_logo-noborder.sv…"
      ]
     },
     "metadata": {},
     "output_type": "display_data"
    }
   ],
   "source": [
    "from huggingface_hub import notebook_login\n",
    "\n",
    "notebook_login()"
   ]
  },
  {
   "cell_type": "code",
   "execution_count": 15,
   "id": "c78e9f7c",
   "metadata": {},
   "outputs": [],
   "source": [
    "import os\n",
    "import datasets\n",
    "\n",
    "def create_image_folder_dataset(root_path):\n",
    "    \"\"\"creates `Dataset` from image folder structure\"\"\"\n",
    "\n",
    "    # get class names by folders names\n",
    "    _CLASS_NAMES= os.listdir(root_path)\n",
    "    # defines `datasets` features`\n",
    "    features=datasets.Features({\n",
    "                      \"img\": datasets.Image(),\n",
    "                      \"label\": datasets.features.ClassLabel(names=_CLASS_NAMES),\n",
    "                  })\n",
    "    # temp list holding datapoints for creation\n",
    "    img_data_files=[]\n",
    "    label_data_files=[]\n",
    "    # load images into list for creation\n",
    "    for img_class in os.listdir(root_path):\n",
    "        for img in os.listdir(os.path.join(root_path,img_class)):\n",
    "            path_=os.path.join(root_path,img_class,img)\n",
    "            img_data_files.append(path_)\n",
    "            label_data_files.append(img_class)\n",
    "    # create dataset\n",
    "    ds = datasets.Dataset.from_dict({\"img\":img_data_files,\"label\":label_data_files},features=features)\n",
    "    return ds\n",
    "\n"
   ]
  },
  {
   "cell_type": "code",
   "execution_count": 16,
   "id": "55ae7c4d",
   "metadata": {},
   "outputs": [],
   "source": [
    "rocks360_ds = create_image_folder_dataset(\"D:\\\\IU\\\\Classes\\\\Fall 23\\\\AML\\\\Assignment 4\\\\360 Split\\\\\")"
   ]
  },
  {
   "cell_type": "code",
   "execution_count": 17,
   "id": "114182fc",
   "metadata": {},
   "outputs": [],
   "source": [
    "img_class_labels = rocks360_ds.features[\"label\"].names"
   ]
  },
  {
   "cell_type": "code",
   "execution_count": 18,
   "id": "db1a6071",
   "metadata": {},
   "outputs": [
    {
     "data": {
      "text/plain": [
       "Dataset({\n",
       "    features: ['img', 'label'],\n",
       "    num_rows: 360\n",
       "})"
      ]
     },
     "execution_count": 18,
     "metadata": {},
     "output_type": "execute_result"
    }
   ],
   "source": [
    "rocks360_ds"
   ]
  },
  {
   "cell_type": "code",
   "execution_count": 19,
   "id": "25eb8f8f",
   "metadata": {},
   "outputs": [],
   "source": [
    "rocks360_labels = rocks360_ds.features[\"label\"].names"
   ]
  },
  {
   "cell_type": "code",
   "execution_count": 20,
   "id": "5ae32b34",
   "metadata": {},
   "outputs": [
    {
     "data": {
      "text/plain": [
       "['I', 'M', 'S']"
      ]
     },
     "execution_count": 20,
     "metadata": {},
     "output_type": "execute_result"
    }
   ],
   "source": [
    "rocks360_labels"
   ]
  },
  {
   "cell_type": "code",
   "execution_count": 21,
   "id": "74f71c55",
   "metadata": {},
   "outputs": [],
   "source": [
    "from transformers import ViTFeatureExtractor\n",
    "from tensorflow import keras\n",
    "from tensorflow.keras import layers\n",
    "\n",
    "model_id = \"google/vit-base-patch16-224-in21k\"\n",
    "\n",
    "feature_extractor = ViTFeatureExtractor.from_pretrained(model_id)\n",
    "\n",
    "# learn more about data augmentation here: https://www.tensorflow.org/tutorials/images/data_augmentation\n",
    "data_augmentation = keras.Sequential(\n",
    "    [\n",
    "        layers.Resizing(feature_extractor.size, feature_extractor.size),\n",
    "        layers.Rescaling(1./255),\n",
    "        layers.RandomFlip(\"horizontal\"),\n",
    "        layers.RandomRotation(factor=0.02),\n",
    "        layers.RandomZoom(\n",
    "            height_factor=0.2, width_factor=0.2\n",
    "        ),\n",
    "    ],\n",
    "    name=\"data_augmentation\",\n",
    ")\n",
    "# use keras image data augementation processing\n",
    "def augmentation(examples):\n",
    "    # print(examples[\"img\"])\n",
    "    examples[\"pixel_values\"] = [data_augmentation(image) for image in examples[\"img\"]]\n",
    "    return examples\n",
    "\n",
    "\n",
    "# basic processing (only resizing)\n",
    "def process(examples):\n",
    "    examples.update(feature_extractor(examples['img'], ))\n",
    "    return examples\n",
    "\n",
    "# we are also renaming our label col to labels to use `.to_tf_dataset` later\n",
    "rocks360_ds = rocks360_ds.rename_column(\"label\", \"labels\")\n"
   ]
  },
  {
   "cell_type": "code",
   "execution_count": 22,
   "id": "2c46e3c0",
   "metadata": {},
   "outputs": [
    {
     "data": {
      "application/json": {
       "ascii": false,
       "bar_format": null,
       "colour": null,
       "elapsed": 0.020119428634643555,
       "initial": 0,
       "n": 0,
       "ncols": null,
       "nrows": 28,
       "postfix": null,
       "prefix": "Map",
       "rate": null,
       "total": 360,
       "unit": " examples",
       "unit_divisor": 1000,
       "unit_scale": false
      },
      "application/vnd.jupyter.widget-view+json": {
       "model_id": "96a6d1e8c2e74e2db81b0810376668b4",
       "version_major": 2,
       "version_minor": 0
      },
      "text/plain": [
       "Map:   0%|          | 0/360 [00:00<?, ? examples/s]"
      ]
     },
     "metadata": {},
     "output_type": "display_data"
    },
    {
     "data": {
      "text/plain": [
       "Dataset({\n",
       "    features: ['img', 'labels', 'pixel_values'],\n",
       "    num_rows: 360\n",
       "})"
      ]
     },
     "execution_count": 22,
     "metadata": {},
     "output_type": "execute_result"
    }
   ],
   "source": [
    "processed_dataset = rocks360_ds.map(process, batched=True)\n",
    "processed_dataset\n",
    "\n",
    "# # augmenting dataset takes a lot of time\n",
    "# processed_dataset = eurosat_ds.map(augmentation, batched=True)\n"
   ]
  },
  {
   "cell_type": "code",
   "execution_count": 23,
   "id": "e976c0fd",
   "metadata": {},
   "outputs": [],
   "source": [
    "test_size=.3333333333333333333333\n",
    "\n",
    "processed_dataset = processed_dataset.shuffle().train_test_split(test_size=test_size)"
   ]
  },
  {
   "cell_type": "code",
   "execution_count": 24,
   "id": "7ebf5ea1",
   "metadata": {},
   "outputs": [
    {
     "data": {
      "text/plain": [
       "Dataset({\n",
       "    features: ['img', 'labels', 'pixel_values'],\n",
       "    num_rows: 240\n",
       "})"
      ]
     },
     "execution_count": 24,
     "metadata": {},
     "output_type": "execute_result"
    }
   ],
   "source": [
    "processed_dataset[\"train\"]"
   ]
  },
  {
   "cell_type": "code",
   "execution_count": 25,
   "id": "b8392d25",
   "metadata": {},
   "outputs": [
    {
     "name": "stdout",
     "output_type": "stream",
     "text": [
      "INFO:tensorflow:Mixed precision compatibility check (mixed_float16): OK\n",
      "Your GPU will likely run quickly with dtype policy mixed_float16 as it has compute capability of at least 7.0. Your GPU: NVIDIA GeForce RTX 3070 Laptop GPU, compute capability 8.6\n"
     ]
    }
   ],
   "source": [
    "from huggingface_hub import HfFolder\n",
    "import tensorflow as tf\n",
    "\n",
    "id2label = {str(i): label for i, label in enumerate(img_class_labels)}\n",
    "label2id = {v: k for k, v in id2label.items()}\n",
    "\n",
    "num_train_epochs = 20\n",
    "train_batch_size = 32\n",
    "eval_batch_size = 32\n",
    "learning_rate = 3e-5\n",
    "weight_decay_rate=0.01\n",
    "num_warmup_steps=0\n",
    "output_dir=model_id.split(\"/\")[1]\n",
    "hub_token = HfFolder.get_token() # or your token directly \"hf_xxx\"\n",
    "hub_model_id = f'{model_id.split(\"/\")[1]}-rock360'\n",
    "fp16=True\n",
    "\n",
    "# Train in mixed-precision float16\n",
    "# Comment this line out if you're using a GPU that will not benefit from this\n",
    "if fp16:\n",
    "    tf.keras.mixed_precision.set_global_policy(\"mixed_float16\")"
   ]
  },
  {
   "cell_type": "code",
   "execution_count": 26,
   "id": "a771494d",
   "metadata": {},
   "outputs": [],
   "source": [
    "from transformers import DefaultDataCollator\n",
    "\n",
    "# Data collator that will dynamically pad the inputs received, as well as the labels.\n",
    "data_collator = DefaultDataCollator(return_tensors=\"tf\")\n",
    "\n",
    "# converting our train dataset to tf.data.Dataset\n",
    "tf_train_dataset = processed_dataset[\"train\"].to_tf_dataset(\n",
    "   columns=['pixel_values'],\n",
    "   label_cols=[\"labels\"],\n",
    "   shuffle=True,\n",
    "   batch_size=train_batch_size,\n",
    "   collate_fn=data_collator)\n",
    "\n",
    "# converting our test dataset to tf.data.Dataset\n",
    "tf_eval_dataset = processed_dataset[\"test\"].to_tf_dataset(\n",
    "   columns=['pixel_values'],\n",
    "   label_cols=[\"labels\"],\n",
    "   shuffle=True,\n",
    "   batch_size=eval_batch_size,\n",
    "   collate_fn=data_collator)\n"
   ]
  },
  {
   "cell_type": "code",
   "execution_count": 27,
   "id": "c243ef96",
   "metadata": {},
   "outputs": [
    {
     "name": "stderr",
     "output_type": "stream",
     "text": [
      "Some layers from the model checkpoint at google/vit-base-patch16-224-in21k were not used when initializing TFViTForImageClassification: ['vit/pooler/dense/bias:0', 'vit/pooler/dense/kernel:0']\n",
      "- This IS expected if you are initializing TFViTForImageClassification from the checkpoint of a model trained on another task or with another architecture (e.g. initializing a BertForSequenceClassification model from a BertForPreTraining model).\n",
      "- This IS NOT expected if you are initializing TFViTForImageClassification from the checkpoint of a model that you expect to be exactly identical (initializing a BertForSequenceClassification model from a BertForSequenceClassification model).\n",
      "Some layers of TFViTForImageClassification were not initialized from the model checkpoint at google/vit-base-patch16-224-in21k and are newly initialized: ['classifier']\n",
      "You should probably TRAIN this model on a down-stream task to be able to use it for predictions and inference.\n"
     ]
    }
   ],
   "source": [
    "from transformers import TFViTForImageClassification, create_optimizer\n",
    "import tensorflow as tf\n",
    "\n",
    "# create optimizer wight weigh decay\n",
    "num_train_steps = len(tf_train_dataset) * num_train_epochs\n",
    "optimizer, lr_schedule = create_optimizer(\n",
    "    init_lr=learning_rate,\n",
    "    num_train_steps=num_train_steps,\n",
    "    weight_decay_rate=weight_decay_rate,\n",
    "    num_warmup_steps=num_warmup_steps,\n",
    ")\n",
    "\n",
    "# load pre-trained ViT model\n",
    "model = TFViTForImageClassification.from_pretrained(\n",
    "    model_id,\n",
    "    num_labels=len(img_class_labels),\n",
    "    id2label=id2label,\n",
    "    label2id=label2id,\n",
    ")\n",
    "\n",
    "# define loss\n",
    "loss=tf.keras.losses.SparseCategoricalCrossentropy(from_logits=True)\n",
    "\n",
    "# define metrics\n",
    "metrics=[\n",
    "    tf.keras.metrics.SparseCategoricalAccuracy(name=\"accuracy\"),\n",
    "]\n",
    "\n",
    "# compile model\n",
    "model.compile(optimizer=optimizer,\n",
    "              loss=loss,\n",
    "              metrics=metrics\n",
    "              )\n"
   ]
  },
  {
   "cell_type": "code",
   "execution_count": 28,
   "id": "c323edfb",
   "metadata": {},
   "outputs": [
    {
     "name": "stderr",
     "output_type": "stream",
     "text": [
      "All model checkpoint layers were used when initializing TFViTModel.\n",
      "\n",
      "All the layers of TFViTModel were initialized from the model checkpoint at google/vit-base-patch16-224-in21k.\n",
      "If your task is similar to the task the model of the checkpoint was trained on, you can already use TFViTModel for predictions without further training.\n"
     ]
    }
   ],
   "source": [
    "# alternatively create Image Classification model using Keras Layer and ViTModel\n",
    "# here you can also add the processing layers of keras\n",
    "\n",
    "import tensorflow as tf\n",
    "from transformers import TFViTModel\n",
    "from tensorflow.keras.models import Model\n",
    "\n",
    "\n",
    "base_model = TFViTModel.from_pretrained('google/vit-base-patch16-224-in21k')\n",
    "\n",
    "\n",
    "# inputs\n",
    "pixel_values = tf.keras.layers.Input(shape=(3,224,224), name='pixel_values', dtype='float32')\n",
    "\n",
    "# model layer\n",
    "vit = base_model.vit(pixel_values)[0]\n",
    "# dense1 = tf.keras.layers.Dense(128, activation='relu', name='dense1')(vit[:, 0, :])\n",
    "# dense1 = tf.keras.layers.Dense(64, activation='relu', name='dense1')(vit[:, 0, :])\n",
    "# dropout = tf.keras.layers.Dropout(0.5, name='dropout')(dense1)\n",
    "mds = tf.keras.layers.Dense(8, activation='tanh', name='mds')(vit[:, 0, :])\n",
    "mds_model = tf.keras.Model(inputs=pixel_values, outputs=mds)\n",
    "classifier = tf.keras.layers.Dense(3, activation='softmax', name='outputs')(mds)\n",
    "\n",
    "# model\n",
    "keras_model = tf.keras.Model(inputs=pixel_values, outputs=classifier)\n"
   ]
  },
  {
   "cell_type": "code",
   "execution_count": 29,
   "id": "3e9b060f",
   "metadata": {},
   "outputs": [
    {
     "name": "stderr",
     "output_type": "stream",
     "text": [
      "Cloning https://huggingface.co/jayashprasad/vit-base-patch16-224-in21k-rock360 into local empty directory.\n"
     ]
    },
    {
     "data": {
      "application/json": {
       "ascii": false,
       "bar_format": null,
       "colour": null,
       "elapsed": 0.013207674026489258,
       "initial": 8192,
       "n": 8192,
       "ncols": null,
       "nrows": 28,
       "postfix": null,
       "prefix": "Download file tf_model.h5",
       "rate": null,
       "total": 343472824,
       "unit": "B",
       "unit_divisor": 1024,
       "unit_scale": true
      },
      "application/vnd.jupyter.widget-view+json": {
       "model_id": "8819c456b479406fb6c51ddf4f1db598",
       "version_major": 2,
       "version_minor": 0
      },
      "text/plain": [
       "Download file tf_model.h5:   0%|          | 8.00k/328M [00:00<?, ?B/s]"
      ]
     },
     "metadata": {},
     "output_type": "display_data"
    },
    {
     "data": {
      "application/json": {
       "ascii": false,
       "bar_format": null,
       "colour": null,
       "elapsed": 0.012192964553833008,
       "initial": 8192,
       "n": 8192,
       "ncols": null,
       "nrows": 28,
       "postfix": null,
       "prefix": "Download file logs/train/events.out.tfevents.1702244529.ASUS.12924.0.v2",
       "rate": null,
       "total": 3266727,
       "unit": "B",
       "unit_divisor": 1024,
       "unit_scale": true
      },
      "application/vnd.jupyter.widget-view+json": {
       "model_id": "d98e6fedec6942aaa4bdb0576fe9e6ec",
       "version_major": 2,
       "version_minor": 0
      },
      "text/plain": [
       "Download file logs/train/events.out.tfevents.1702244529.ASUS.12924.0.v2:   0%|          | 8.00k/3.12M [00:00<?…"
      ]
     },
     "metadata": {},
     "output_type": "display_data"
    },
    {
     "data": {
      "application/json": {
       "ascii": false,
       "bar_format": null,
       "colour": null,
       "elapsed": 0.01250600814819336,
       "initial": 32768,
       "n": 32768,
       "ncols": null,
       "nrows": 28,
       "postfix": null,
       "prefix": "Download file logs/train/events.out.tfevents.1702243059.ASUS.11396.0.v2",
       "rate": null,
       "total": 3268463,
       "unit": "B",
       "unit_divisor": 1024,
       "unit_scale": true
      },
      "application/vnd.jupyter.widget-view+json": {
       "model_id": "3a840dcec6a1445091f24395680975b8",
       "version_major": 2,
       "version_minor": 0
      },
      "text/plain": [
       "Download file logs/train/events.out.tfevents.1702243059.ASUS.11396.0.v2:   1%|1         | 32.0k/3.12M [00:00<?…"
      ]
     },
     "metadata": {},
     "output_type": "display_data"
    },
    {
     "data": {
      "application/json": {
       "ascii": false,
       "bar_format": null,
       "colour": null,
       "elapsed": 0.013567686080932617,
       "initial": 32768,
       "n": 32768,
       "ncols": null,
       "nrows": 28,
       "postfix": null,
       "prefix": "Download file logs/train/events.out.tfevents.1702084309.ASUS.10920.0.v2",
       "rate": null,
       "total": 3265208,
       "unit": "B",
       "unit_divisor": 1024,
       "unit_scale": true
      },
      "application/vnd.jupyter.widget-view+json": {
       "model_id": "f0a38cbed7964b429bdbb678783a7425",
       "version_major": 2,
       "version_minor": 0
      },
      "text/plain": [
       "Download file logs/train/events.out.tfevents.1702084309.ASUS.10920.0.v2:   1%|1         | 32.0k/3.11M [00:00<?…"
      ]
     },
     "metadata": {},
     "output_type": "display_data"
    },
    {
     "data": {
      "application/json": {
       "ascii": false,
       "bar_format": null,
       "colour": null,
       "elapsed": 0.014043807983398438,
       "initial": 32768,
       "n": 32768,
       "ncols": null,
       "nrows": 28,
       "postfix": null,
       "prefix": "Download file logs/train/events.out.tfevents.1702247943.ASUS.3892.0.v2",
       "rate": null,
       "total": 3266727,
       "unit": "B",
       "unit_divisor": 1024,
       "unit_scale": true
      },
      "application/vnd.jupyter.widget-view+json": {
       "model_id": "40e39cb4aa6d49f18391a7e03aa68abe",
       "version_major": 2,
       "version_minor": 0
      },
      "text/plain": [
       "Download file logs/train/events.out.tfevents.1702247943.ASUS.3892.0.v2:   1%|1         | 32.0k/3.12M [00:00<?,…"
      ]
     },
     "metadata": {},
     "output_type": "display_data"
    },
    {
     "data": {
      "application/json": {
       "ascii": false,
       "bar_format": null,
       "colour": null,
       "elapsed": 0.01987314224243164,
       "initial": 24576,
       "n": 24576,
       "ncols": null,
       "nrows": 28,
       "postfix": null,
       "prefix": "Download file logs/train/events.out.tfevents.1702249761.ASUS.11444.0.v2",
       "rate": null,
       "total": 3268463,
       "unit": "B",
       "unit_divisor": 1024,
       "unit_scale": true
      },
      "application/vnd.jupyter.widget-view+json": {
       "model_id": "971ad5fc9879483b925375ae9cda2937",
       "version_major": 2,
       "version_minor": 0
      },
      "text/plain": [
       "Download file logs/train/events.out.tfevents.1702249761.ASUS.11444.0.v2:   1%|          | 24.0k/3.12M [00:00<?…"
      ]
     },
     "metadata": {},
     "output_type": "display_data"
    },
    {
     "data": {
      "application/json": {
       "ascii": false,
       "bar_format": null,
       "colour": null,
       "elapsed": 0.01750779151916504,
       "initial": 16384,
       "n": 16384,
       "ncols": null,
       "nrows": 28,
       "postfix": null,
       "prefix": "Download file logs/train/events.out.tfevents.1702085955.ASUS.17556.0.v2",
       "rate": null,
       "total": 3265425,
       "unit": "B",
       "unit_divisor": 1024,
       "unit_scale": true
      },
      "application/vnd.jupyter.widget-view+json": {
       "model_id": "82d41feb4d1a4804a2592bf7180a5d30",
       "version_major": 2,
       "version_minor": 0
      },
      "text/plain": [
       "Download file logs/train/events.out.tfevents.1702085955.ASUS.17556.0.v2:   1%|          | 16.0k/3.11M [00:00<?…"
      ]
     },
     "metadata": {},
     "output_type": "display_data"
    },
    {
     "data": {
      "application/json": {
       "ascii": false,
       "bar_format": null,
       "colour": null,
       "elapsed": 0.017019033432006836,
       "initial": 32768,
       "n": 32768,
       "ncols": null,
       "nrows": 28,
       "postfix": null,
       "prefix": "Download file logs/train/events.out.tfevents.1702241941.ASUS.22960.0.v2",
       "rate": null,
       "total": 3266727,
       "unit": "B",
       "unit_divisor": 1024,
       "unit_scale": true
      },
      "application/vnd.jupyter.widget-view+json": {
       "model_id": "3e67f25d94024baa857145204dd190ca",
       "version_major": 2,
       "version_minor": 0
      },
      "text/plain": [
       "Download file logs/train/events.out.tfevents.1702241941.ASUS.22960.0.v2:   1%|1         | 32.0k/3.12M [00:00<?…"
      ]
     },
     "metadata": {},
     "output_type": "display_data"
    },
    {
     "data": {
      "application/json": {
       "ascii": false,
       "bar_format": null,
       "colour": null,
       "elapsed": 0.012637615203857422,
       "initial": 1024,
       "n": 1024,
       "ncols": null,
       "nrows": 28,
       "postfix": null,
       "prefix": "Clean file logs/train/events.out.tfevents.1702085955.ASUS.17556.0.v2",
       "rate": null,
       "total": 3265425,
       "unit": "B",
       "unit_divisor": 1024,
       "unit_scale": true
      },
      "application/vnd.jupyter.widget-view+json": {
       "model_id": "a341e84a5057483f8db8ff1d623ef860",
       "version_major": 2,
       "version_minor": 0
      },
      "text/plain": [
       "Clean file logs/train/events.out.tfevents.1702085955.ASUS.17556.0.v2:   0%|          | 1.00k/3.11M [00:00<?, ?…"
      ]
     },
     "metadata": {},
     "output_type": "display_data"
    },
    {
     "data": {
      "application/json": {
       "ascii": false,
       "bar_format": null,
       "colour": null,
       "elapsed": 0.015452384948730469,
       "initial": 1024,
       "n": 1024,
       "ncols": null,
       "nrows": 28,
       "postfix": null,
       "prefix": "Clean file logs/train/events.out.tfevents.1702241941.ASUS.22960.0.v2",
       "rate": null,
       "total": 3266727,
       "unit": "B",
       "unit_divisor": 1024,
       "unit_scale": true
      },
      "application/vnd.jupyter.widget-view+json": {
       "model_id": "4b92efd5be65474183f4f71c618c412c",
       "version_major": 2,
       "version_minor": 0
      },
      "text/plain": [
       "Clean file logs/train/events.out.tfevents.1702241941.ASUS.22960.0.v2:   0%|          | 1.00k/3.12M [00:00<?, ?…"
      ]
     },
     "metadata": {},
     "output_type": "display_data"
    },
    {
     "data": {
      "application/json": {
       "ascii": false,
       "bar_format": null,
       "colour": null,
       "elapsed": 0.01625990867614746,
       "initial": 1024,
       "n": 1024,
       "ncols": null,
       "nrows": 28,
       "postfix": null,
       "prefix": "Clean file logs/train/events.out.tfevents.1702243059.ASUS.11396.0.v2",
       "rate": null,
       "total": 3268463,
       "unit": "B",
       "unit_divisor": 1024,
       "unit_scale": true
      },
      "application/vnd.jupyter.widget-view+json": {
       "model_id": "f773c29d55614a2197f6ef9dce81f270",
       "version_major": 2,
       "version_minor": 0
      },
      "text/plain": [
       "Clean file logs/train/events.out.tfevents.1702243059.ASUS.11396.0.v2:   0%|          | 1.00k/3.12M [00:00<?, ?…"
      ]
     },
     "metadata": {},
     "output_type": "display_data"
    },
    {
     "data": {
      "application/json": {
       "ascii": false,
       "bar_format": null,
       "colour": null,
       "elapsed": 0.017186641693115234,
       "initial": 1024,
       "n": 1024,
       "ncols": null,
       "nrows": 28,
       "postfix": null,
       "prefix": "Clean file logs/train/events.out.tfevents.1702244529.ASUS.12924.0.v2",
       "rate": null,
       "total": 3266727,
       "unit": "B",
       "unit_divisor": 1024,
       "unit_scale": true
      },
      "application/vnd.jupyter.widget-view+json": {
       "model_id": "1c1fd5fb07af42ab9ba168908df881ac",
       "version_major": 2,
       "version_minor": 0
      },
      "text/plain": [
       "Clean file logs/train/events.out.tfevents.1702244529.ASUS.12924.0.v2:   0%|          | 1.00k/3.12M [00:00<?, ?…"
      ]
     },
     "metadata": {},
     "output_type": "display_data"
    },
    {
     "data": {
      "application/json": {
       "ascii": false,
       "bar_format": null,
       "colour": null,
       "elapsed": 0.019613981246948242,
       "initial": 1024,
       "n": 1024,
       "ncols": null,
       "nrows": 28,
       "postfix": null,
       "prefix": "Clean file logs/train/events.out.tfevents.1702247943.ASUS.3892.0.v2",
       "rate": null,
       "total": 3266727,
       "unit": "B",
       "unit_divisor": 1024,
       "unit_scale": true
      },
      "application/vnd.jupyter.widget-view+json": {
       "model_id": "89eec7337bdc4f98a3686a466e5ceab8",
       "version_major": 2,
       "version_minor": 0
      },
      "text/plain": [
       "Clean file logs/train/events.out.tfevents.1702247943.ASUS.3892.0.v2:   0%|          | 1.00k/3.12M [00:00<?, ?B…"
      ]
     },
     "metadata": {},
     "output_type": "display_data"
    },
    {
     "data": {
      "application/json": {
       "ascii": false,
       "bar_format": null,
       "colour": null,
       "elapsed": 0.015177011489868164,
       "initial": 1024,
       "n": 1024,
       "ncols": null,
       "nrows": 28,
       "postfix": null,
       "prefix": "Clean file logs/train/events.out.tfevents.1702249761.ASUS.11444.0.v2",
       "rate": null,
       "total": 3268463,
       "unit": "B",
       "unit_divisor": 1024,
       "unit_scale": true
      },
      "application/vnd.jupyter.widget-view+json": {
       "model_id": "034db155f98b4ad7a795829a0e327cca",
       "version_major": 2,
       "version_minor": 0
      },
      "text/plain": [
       "Clean file logs/train/events.out.tfevents.1702249761.ASUS.11444.0.v2:   0%|          | 1.00k/3.12M [00:00<?, ?…"
      ]
     },
     "metadata": {},
     "output_type": "display_data"
    },
    {
     "data": {
      "application/json": {
       "ascii": false,
       "bar_format": null,
       "colour": null,
       "elapsed": 0.01611781120300293,
       "initial": 32768,
       "n": 32768,
       "ncols": null,
       "nrows": 28,
       "postfix": null,
       "prefix": "Download file logs/train/events.out.tfevents.1702067930.ASUS.27144.0.v2",
       "rate": null,
       "total": 3264773,
       "unit": "B",
       "unit_divisor": 1024,
       "unit_scale": true
      },
      "application/vnd.jupyter.widget-view+json": {
       "model_id": "2ad7ad0f828c464db2e03399bce9fc22",
       "version_major": 2,
       "version_minor": 0
      },
      "text/plain": [
       "Download file logs/train/events.out.tfevents.1702067930.ASUS.27144.0.v2:   1%|1         | 32.0k/3.11M [00:00<?…"
      ]
     },
     "metadata": {},
     "output_type": "display_data"
    },
    {
     "data": {
      "application/json": {
       "ascii": false,
       "bar_format": null,
       "colour": null,
       "elapsed": 0.01583552360534668,
       "initial": 1024,
       "n": 1024,
       "ncols": null,
       "nrows": 28,
       "postfix": null,
       "prefix": "Clean file logs/train/events.out.tfevents.1702084309.ASUS.10920.0.v2",
       "rate": null,
       "total": 3265208,
       "unit": "B",
       "unit_divisor": 1024,
       "unit_scale": true
      },
      "application/vnd.jupyter.widget-view+json": {
       "model_id": "40fccdb5a5ba4476901faf91b96e7c5b",
       "version_major": 2,
       "version_minor": 0
      },
      "text/plain": [
       "Clean file logs/train/events.out.tfevents.1702084309.ASUS.10920.0.v2:   0%|          | 1.00k/3.11M [00:00<?, ?…"
      ]
     },
     "metadata": {},
     "output_type": "display_data"
    },
    {
     "data": {
      "application/json": {
       "ascii": false,
       "bar_format": null,
       "colour": null,
       "elapsed": 0.015405654907226562,
       "initial": 8192,
       "n": 8192,
       "ncols": null,
       "nrows": 28,
       "postfix": null,
       "prefix": "Download file logs/train/events.out.tfevents.1702248998.ASUS.29184.0.v2",
       "rate": null,
       "total": 3263255,
       "unit": "B",
       "unit_divisor": 1024,
       "unit_scale": true
      },
      "application/vnd.jupyter.widget-view+json": {
       "model_id": "5674f2f377dc4dcf9d192f6f99c6a4d5",
       "version_major": 2,
       "version_minor": 0
      },
      "text/plain": [
       "Download file logs/train/events.out.tfevents.1702248998.ASUS.29184.0.v2:   0%|          | 8.00k/3.11M [00:00<?…"
      ]
     },
     "metadata": {},
     "output_type": "display_data"
    },
    {
     "data": {
      "application/json": {
       "ascii": false,
       "bar_format": null,
       "colour": null,
       "elapsed": 0.0157015323638916,
       "initial": 18894,
       "n": 18894,
       "ncols": null,
       "nrows": 28,
       "postfix": null,
       "prefix": "Download file logs/train/events.out.tfevents.1702249404.ASUS.26472.0.v2",
       "rate": null,
       "total": 3263472,
       "unit": "B",
       "unit_divisor": 1024,
       "unit_scale": true
      },
      "application/vnd.jupyter.widget-view+json": {
       "model_id": "06c6ec5140764c068510855614348378",
       "version_major": 2,
       "version_minor": 0
      },
      "text/plain": [
       "Download file logs/train/events.out.tfevents.1702249404.ASUS.26472.0.v2:   1%|          | 18.5k/3.11M [00:00<?…"
      ]
     },
     "metadata": {},
     "output_type": "display_data"
    },
    {
     "data": {
      "application/json": {
       "ascii": false,
       "bar_format": null,
       "colour": null,
       "elapsed": 0.01696038246154785,
       "initial": 8006,
       "n": 8006,
       "ncols": null,
       "nrows": 28,
       "postfix": null,
       "prefix": "Download file logs/validation/events.out.tfevents.1702243102.ASUS.11396.1.v2",
       "rate": null,
       "total": 8006,
       "unit": "B",
       "unit_divisor": 1024,
       "unit_scale": true
      },
      "application/vnd.jupyter.widget-view+json": {
       "model_id": "0d08d252b1f345ef9f30de194201ba9b",
       "version_major": 2,
       "version_minor": 0
      },
      "text/plain": [
       "Download file logs/validation/events.out.tfevents.1702243102.ASUS.11396.1.v2: 100%|##########| 7.82k/7.82k [00…"
      ]
     },
     "metadata": {},
     "output_type": "display_data"
    },
    {
     "data": {
      "application/json": {
       "ascii": false,
       "bar_format": null,
       "colour": null,
       "elapsed": 0.01663041114807129,
       "initial": 32768,
       "n": 32768,
       "ncols": null,
       "nrows": 28,
       "postfix": null,
       "prefix": "Download file logs/train/events.out.tfevents.1702083642.ASUS.20804.0.v2",
       "rate": null,
       "total": 3263255,
       "unit": "B",
       "unit_divisor": 1024,
       "unit_scale": true
      },
      "application/vnd.jupyter.widget-view+json": {
       "model_id": "a52855de081e4d3293ae98218508ee83",
       "version_major": 2,
       "version_minor": 0
      },
      "text/plain": [
       "Download file logs/train/events.out.tfevents.1702083642.ASUS.20804.0.v2:   1%|1         | 32.0k/3.11M [00:00<?…"
      ]
     },
     "metadata": {},
     "output_type": "display_data"
    },
    {
     "data": {
      "application/json": {
       "ascii": false,
       "bar_format": null,
       "colour": null,
       "elapsed": 0.015377283096313477,
       "initial": 1024,
       "n": 1024,
       "ncols": null,
       "nrows": 28,
       "postfix": null,
       "prefix": "Clean file logs/train/events.out.tfevents.1702067930.ASUS.27144.0.v2",
       "rate": null,
       "total": 3264773,
       "unit": "B",
       "unit_divisor": 1024,
       "unit_scale": true
      },
      "application/vnd.jupyter.widget-view+json": {
       "model_id": "f8487faaa971452fabe764f47b6dc017",
       "version_major": 2,
       "version_minor": 0
      },
      "text/plain": [
       "Clean file logs/train/events.out.tfevents.1702067930.ASUS.27144.0.v2:   0%|          | 1.00k/3.11M [00:00<?, ?…"
      ]
     },
     "metadata": {},
     "output_type": "display_data"
    },
    {
     "data": {
      "application/json": {
       "ascii": false,
       "bar_format": null,
       "colour": null,
       "elapsed": 0.016112565994262695,
       "initial": 1024,
       "n": 1024,
       "ncols": null,
       "nrows": 28,
       "postfix": null,
       "prefix": "Clean file logs/train/events.out.tfevents.1702248998.ASUS.29184.0.v2",
       "rate": null,
       "total": 3263255,
       "unit": "B",
       "unit_divisor": 1024,
       "unit_scale": true
      },
      "application/vnd.jupyter.widget-view+json": {
       "model_id": "5ce454c088664eb9912696d52dbbf461",
       "version_major": 2,
       "version_minor": 0
      },
      "text/plain": [
       "Clean file logs/train/events.out.tfevents.1702248998.ASUS.29184.0.v2:   0%|          | 1.00k/3.11M [00:00<?, ?…"
      ]
     },
     "metadata": {},
     "output_type": "display_data"
    },
    {
     "data": {
      "application/json": {
       "ascii": false,
       "bar_format": null,
       "colour": null,
       "elapsed": 0.0165250301361084,
       "initial": 8006,
       "n": 8006,
       "ncols": null,
       "nrows": 28,
       "postfix": null,
       "prefix": "Download file logs/validation/events.out.tfevents.1702249803.ASUS.11444.1.v2",
       "rate": null,
       "total": 8006,
       "unit": "B",
       "unit_divisor": 1024,
       "unit_scale": true
      },
      "application/vnd.jupyter.widget-view+json": {
       "model_id": "8d46f97db27248fe89c6a35349de1c74",
       "version_major": 2,
       "version_minor": 0
      },
      "text/plain": [
       "Download file logs/validation/events.out.tfevents.1702249803.ASUS.11444.1.v2: 100%|##########| 7.82k/7.82k [00…"
      ]
     },
     "metadata": {},
     "output_type": "display_data"
    },
    {
     "data": {
      "application/json": {
       "ascii": false,
       "bar_format": null,
       "colour": null,
       "elapsed": 0.016138792037963867,
       "initial": 5446,
       "n": 5446,
       "ncols": null,
       "nrows": 28,
       "postfix": null,
       "prefix": "Download file logs/validation/events.out.tfevents.1702241984.ASUS.22960.1.v2",
       "rate": null,
       "total": 5446,
       "unit": "B",
       "unit_divisor": 1024,
       "unit_scale": true
      },
      "application/vnd.jupyter.widget-view+json": {
       "model_id": "3baf780183c94337b4f5befdde47aa9d",
       "version_major": 2,
       "version_minor": 0
      },
      "text/plain": [
       "Download file logs/validation/events.out.tfevents.1702241984.ASUS.22960.1.v2: 100%|##########| 5.32k/5.32k [00…"
      ]
     },
     "metadata": {},
     "output_type": "display_data"
    },
    {
     "data": {
      "application/json": {
       "ascii": false,
       "bar_format": null,
       "colour": null,
       "elapsed": 0.01668691635131836,
       "initial": 1024,
       "n": 1024,
       "ncols": null,
       "nrows": 28,
       "postfix": null,
       "prefix": "Clean file logs/validation/events.out.tfevents.1702243102.ASUS.11396.1.v2",
       "rate": null,
       "total": 8006,
       "unit": "B",
       "unit_divisor": 1024,
       "unit_scale": true
      },
      "application/vnd.jupyter.widget-view+json": {
       "model_id": "8efb3ba5828d4caab56f2aa0269f6a68",
       "version_major": 2,
       "version_minor": 0
      },
      "text/plain": [
       "Clean file logs/validation/events.out.tfevents.1702243102.ASUS.11396.1.v2:  13%|#2        | 1.00k/7.82k [00:00…"
      ]
     },
     "metadata": {},
     "output_type": "display_data"
    },
    {
     "data": {
      "application/json": {
       "ascii": false,
       "bar_format": null,
       "colour": null,
       "elapsed": 0.015473127365112305,
       "initial": 1024,
       "n": 1024,
       "ncols": null,
       "nrows": 28,
       "postfix": null,
       "prefix": "Clean file logs/train/events.out.tfevents.1702083642.ASUS.20804.0.v2",
       "rate": null,
       "total": 3263255,
       "unit": "B",
       "unit_divisor": 1024,
       "unit_scale": true
      },
      "application/vnd.jupyter.widget-view+json": {
       "model_id": "d6fa131fac904037b309f04cfae3b3df",
       "version_major": 2,
       "version_minor": 0
      },
      "text/plain": [
       "Clean file logs/train/events.out.tfevents.1702083642.ASUS.20804.0.v2:   0%|          | 1.00k/3.11M [00:00<?, ?…"
      ]
     },
     "metadata": {},
     "output_type": "display_data"
    },
    {
     "data": {
      "application/json": {
       "ascii": false,
       "bar_format": null,
       "colour": null,
       "elapsed": 0.01721668243408203,
       "initial": 1024,
       "n": 1024,
       "ncols": null,
       "nrows": 28,
       "postfix": null,
       "prefix": "Clean file logs/validation/events.out.tfevents.1702249803.ASUS.11444.1.v2",
       "rate": null,
       "total": 8006,
       "unit": "B",
       "unit_divisor": 1024,
       "unit_scale": true
      },
      "application/vnd.jupyter.widget-view+json": {
       "model_id": "f5e4e306381645268845b09bafd4a8a2",
       "version_major": 2,
       "version_minor": 0
      },
      "text/plain": [
       "Clean file logs/validation/events.out.tfevents.1702249803.ASUS.11444.1.v2:  13%|#2        | 1.00k/7.82k [00:00…"
      ]
     },
     "metadata": {},
     "output_type": "display_data"
    },
    {
     "data": {
      "application/json": {
       "ascii": false,
       "bar_format": null,
       "colour": null,
       "elapsed": 0.016559600830078125,
       "initial": 1024,
       "n": 1024,
       "ncols": null,
       "nrows": 28,
       "postfix": null,
       "prefix": "Clean file logs/validation/events.out.tfevents.1702241984.ASUS.22960.1.v2",
       "rate": null,
       "total": 5446,
       "unit": "B",
       "unit_divisor": 1024,
       "unit_scale": true
      },
      "application/vnd.jupyter.widget-view+json": {
       "model_id": "e921b1ab676e471f81252f6217c87668",
       "version_major": 2,
       "version_minor": 0
      },
      "text/plain": [
       "Clean file logs/validation/events.out.tfevents.1702241984.ASUS.22960.1.v2:  19%|#8        | 1.00k/5.32k [00:00…"
      ]
     },
     "metadata": {},
     "output_type": "display_data"
    },
    {
     "data": {
      "application/json": {
       "ascii": false,
       "bar_format": null,
       "colour": null,
       "elapsed": 0.015320301055908203,
       "initial": 5446,
       "n": 5446,
       "ncols": null,
       "nrows": 28,
       "postfix": null,
       "prefix": "Download file logs/validation/events.out.tfevents.1702244570.ASUS.12924.1.v2",
       "rate": null,
       "total": 5446,
       "unit": "B",
       "unit_divisor": 1024,
       "unit_scale": true
      },
      "application/vnd.jupyter.widget-view+json": {
       "model_id": "734c203c439a4ea1b22199390d0c5838",
       "version_major": 2,
       "version_minor": 0
      },
      "text/plain": [
       "Download file logs/validation/events.out.tfevents.1702244570.ASUS.12924.1.v2: 100%|##########| 5.32k/5.32k [00…"
      ]
     },
     "metadata": {},
     "output_type": "display_data"
    },
    {
     "data": {
      "application/json": {
       "ascii": false,
       "bar_format": null,
       "colour": null,
       "elapsed": 0.015227794647216797,
       "initial": 1024,
       "n": 1024,
       "ncols": null,
       "nrows": 28,
       "postfix": null,
       "prefix": "Clean file logs/train/events.out.tfevents.1702249404.ASUS.26472.0.v2",
       "rate": null,
       "total": 3263472,
       "unit": "B",
       "unit_divisor": 1024,
       "unit_scale": true
      },
      "application/vnd.jupyter.widget-view+json": {
       "model_id": "d2fb7ee3c70b4a598fa5b4fd3ea7ed69",
       "version_major": 2,
       "version_minor": 0
      },
      "text/plain": [
       "Clean file logs/train/events.out.tfevents.1702249404.ASUS.26472.0.v2:   0%|          | 1.00k/3.11M [00:00<?, ?…"
      ]
     },
     "metadata": {},
     "output_type": "display_data"
    },
    {
     "data": {
      "application/json": {
       "ascii": false,
       "bar_format": null,
       "colour": null,
       "elapsed": 0.015296459197998047,
       "initial": 3534,
       "n": 3534,
       "ncols": null,
       "nrows": 28,
       "postfix": null,
       "prefix": "Download file logs/validation/events.out.tfevents.1702085995.ASUS.17556.1.v2",
       "rate": null,
       "total": 3534,
       "unit": "B",
       "unit_divisor": 1024,
       "unit_scale": true
      },
      "application/vnd.jupyter.widget-view+json": {
       "model_id": "ed89c3a656bf4d2b95e7de4db1e30531",
       "version_major": 2,
       "version_minor": 0
      },
      "text/plain": [
       "Download file logs/validation/events.out.tfevents.1702085995.ASUS.17556.1.v2: 100%|##########| 3.45k/3.45k [00…"
      ]
     },
     "metadata": {},
     "output_type": "display_data"
    },
    {
     "data": {
      "application/json": {
       "ascii": false,
       "bar_format": null,
       "colour": null,
       "elapsed": 0.015794754028320312,
       "initial": 5446,
       "n": 5446,
       "ncols": null,
       "nrows": 28,
       "postfix": null,
       "prefix": "Download file logs/validation/events.out.tfevents.1702247984.ASUS.3892.1.v2",
       "rate": null,
       "total": 5446,
       "unit": "B",
       "unit_divisor": 1024,
       "unit_scale": true
      },
      "application/vnd.jupyter.widget-view+json": {
       "model_id": "0d6a9c9af05a4fe78171d179aee83d68",
       "version_major": 2,
       "version_minor": 0
      },
      "text/plain": [
       "Download file logs/validation/events.out.tfevents.1702247984.ASUS.3892.1.v2: 100%|##########| 5.32k/5.32k [00:…"
      ]
     },
     "metadata": {},
     "output_type": "display_data"
    },
    {
     "data": {
      "application/json": {
       "ascii": false,
       "bar_format": null,
       "colour": null,
       "elapsed": 0.015252828598022461,
       "initial": 3216,
       "n": 3216,
       "ncols": null,
       "nrows": 28,
       "postfix": null,
       "prefix": "Download file logs/validation/events.out.tfevents.1702084350.ASUS.10920.1.v2",
       "rate": null,
       "total": 3216,
       "unit": "B",
       "unit_divisor": 1024,
       "unit_scale": true
      },
      "application/vnd.jupyter.widget-view+json": {
       "model_id": "2e8d90f755434e2c979b1a670f6998d1",
       "version_major": 2,
       "version_minor": 0
      },
      "text/plain": [
       "Download file logs/validation/events.out.tfevents.1702084350.ASUS.10920.1.v2: 100%|##########| 3.14k/3.14k [00…"
      ]
     },
     "metadata": {},
     "output_type": "display_data"
    },
    {
     "data": {
      "application/json": {
       "ascii": false,
       "bar_format": null,
       "colour": null,
       "elapsed": 0.01686406135559082,
       "initial": 672,
       "n": 672,
       "ncols": null,
       "nrows": 28,
       "postfix": null,
       "prefix": "Download file logs/validation/events.out.tfevents.1702249446.ASUS.26472.1.v2",
       "rate": null,
       "total": 672,
       "unit": "B",
       "unit_divisor": 1024,
       "unit_scale": true
      },
      "application/vnd.jupyter.widget-view+json": {
       "model_id": "e4ea569f953a409e985d7e7c7a6d1399",
       "version_major": 2,
       "version_minor": 0
      },
      "text/plain": [
       "Download file logs/validation/events.out.tfevents.1702249446.ASUS.26472.1.v2: 100%|##########| 672/672 [00:00<…"
      ]
     },
     "metadata": {},
     "output_type": "display_data"
    },
    {
     "data": {
      "application/json": {
       "ascii": false,
       "bar_format": null,
       "colour": null,
       "elapsed": 0.01659107208251953,
       "initial": 2580,
       "n": 2580,
       "ncols": null,
       "nrows": 28,
       "postfix": null,
       "prefix": "Download file logs/validation/events.out.tfevents.1702067972.ASUS.27144.1.v2",
       "rate": null,
       "total": 2580,
       "unit": "B",
       "unit_divisor": 1024,
       "unit_scale": true
      },
      "application/vnd.jupyter.widget-view+json": {
       "model_id": "995c7259e33c456ab3e27b4c374d376c",
       "version_major": 2,
       "version_minor": 0
      },
      "text/plain": [
       "Download file logs/validation/events.out.tfevents.1702067972.ASUS.27144.1.v2: 100%|##########| 2.52k/2.52k [00…"
      ]
     },
     "metadata": {},
     "output_type": "display_data"
    },
    {
     "data": {
      "application/json": {
       "ascii": false,
       "bar_format": null,
       "colour": null,
       "elapsed": 0.015372514724731445,
       "initial": 1024,
       "n": 1024,
       "ncols": null,
       "nrows": 28,
       "postfix": null,
       "prefix": "Clean file logs/validation/events.out.tfevents.1702244570.ASUS.12924.1.v2",
       "rate": null,
       "total": 5446,
       "unit": "B",
       "unit_divisor": 1024,
       "unit_scale": true
      },
      "application/vnd.jupyter.widget-view+json": {
       "model_id": "bb43b484c0a64bae8717f81c7e98a77e",
       "version_major": 2,
       "version_minor": 0
      },
      "text/plain": [
       "Clean file logs/validation/events.out.tfevents.1702244570.ASUS.12924.1.v2:  19%|#8        | 1.00k/5.32k [00:00…"
      ]
     },
     "metadata": {},
     "output_type": "display_data"
    },
    {
     "data": {
      "application/json": {
       "ascii": false,
       "bar_format": null,
       "colour": null,
       "elapsed": 0.021917343139648438,
       "initial": 1024,
       "n": 1024,
       "ncols": null,
       "nrows": 28,
       "postfix": null,
       "prefix": "Clean file logs/validation/events.out.tfevents.1702085995.ASUS.17556.1.v2",
       "rate": null,
       "total": 3534,
       "unit": "B",
       "unit_divisor": 1024,
       "unit_scale": true
      },
      "application/vnd.jupyter.widget-view+json": {
       "model_id": "16e67d2cd786406eb2de9f9570e6c24b",
       "version_major": 2,
       "version_minor": 0
      },
      "text/plain": [
       "Clean file logs/validation/events.out.tfevents.1702085995.ASUS.17556.1.v2:  29%|##8       | 1.00k/3.45k [00:00…"
      ]
     },
     "metadata": {},
     "output_type": "display_data"
    },
    {
     "data": {
      "application/json": {
       "ascii": false,
       "bar_format": null,
       "colour": null,
       "elapsed": 0.015001773834228516,
       "initial": 1024,
       "n": 1024,
       "ncols": null,
       "nrows": 28,
       "postfix": null,
       "prefix": "Clean file logs/validation/events.out.tfevents.1702247984.ASUS.3892.1.v2",
       "rate": null,
       "total": 5446,
       "unit": "B",
       "unit_divisor": 1024,
       "unit_scale": true
      },
      "application/vnd.jupyter.widget-view+json": {
       "model_id": "44169a9f49614db2b9aeae615e699563",
       "version_major": 2,
       "version_minor": 0
      },
      "text/plain": [
       "Clean file logs/validation/events.out.tfevents.1702247984.ASUS.3892.1.v2:  19%|#8        | 1.00k/5.32k [00:00<…"
      ]
     },
     "metadata": {},
     "output_type": "display_data"
    },
    {
     "data": {
      "application/json": {
       "ascii": false,
       "bar_format": null,
       "colour": null,
       "elapsed": 0.01466059684753418,
       "initial": 1024,
       "n": 1024,
       "ncols": null,
       "nrows": 28,
       "postfix": null,
       "prefix": "Clean file logs/validation/events.out.tfevents.1702084350.ASUS.10920.1.v2",
       "rate": null,
       "total": 3216,
       "unit": "B",
       "unit_divisor": 1024,
       "unit_scale": true
      },
      "application/vnd.jupyter.widget-view+json": {
       "model_id": "2388f46f31994834a6209120e7105046",
       "version_major": 2,
       "version_minor": 0
      },
      "text/plain": [
       "Clean file logs/validation/events.out.tfevents.1702084350.ASUS.10920.1.v2:  32%|###1      | 1.00k/3.14k [00:00…"
      ]
     },
     "metadata": {},
     "output_type": "display_data"
    },
    {
     "data": {
      "application/json": {
       "ascii": false,
       "bar_format": null,
       "colour": null,
       "elapsed": 0.016055583953857422,
       "initial": 672,
       "n": 672,
       "ncols": null,
       "nrows": 28,
       "postfix": null,
       "prefix": "Clean file logs/validation/events.out.tfevents.1702249446.ASUS.26472.1.v2",
       "rate": null,
       "total": 672,
       "unit": "B",
       "unit_divisor": 1024,
       "unit_scale": true
      },
      "application/vnd.jupyter.widget-view+json": {
       "model_id": "a55cf89762b64d8e829aa2e53936abde",
       "version_major": 2,
       "version_minor": 0
      },
      "text/plain": [
       "Clean file logs/validation/events.out.tfevents.1702249446.ASUS.26472.1.v2: 100%|##########| 672/672 [00:00<?, …"
      ]
     },
     "metadata": {},
     "output_type": "display_data"
    },
    {
     "data": {
      "application/json": {
       "ascii": false,
       "bar_format": null,
       "colour": null,
       "elapsed": 0.014018774032592773,
       "initial": 1024,
       "n": 1024,
       "ncols": null,
       "nrows": 28,
       "postfix": null,
       "prefix": "Clean file logs/validation/events.out.tfevents.1702067972.ASUS.27144.1.v2",
       "rate": null,
       "total": 2580,
       "unit": "B",
       "unit_divisor": 1024,
       "unit_scale": true
      },
      "application/vnd.jupyter.widget-view+json": {
       "model_id": "f83d653e9f5c4d00872d5a54dbc9c2a0",
       "version_major": 2,
       "version_minor": 0
      },
      "text/plain": [
       "Clean file logs/validation/events.out.tfevents.1702067972.ASUS.27144.1.v2:  40%|###9      | 1.00k/2.52k [00:00…"
      ]
     },
     "metadata": {},
     "output_type": "display_data"
    },
    {
     "data": {
      "application/json": {
       "ascii": false,
       "bar_format": null,
       "colour": null,
       "elapsed": 0.014131307601928711,
       "initial": 354,
       "n": 354,
       "ncols": null,
       "nrows": 28,
       "postfix": null,
       "prefix": "Download file logs/validation/events.out.tfevents.1702249040.ASUS.29184.1.v2",
       "rate": null,
       "total": 354,
       "unit": "B",
       "unit_divisor": 1024,
       "unit_scale": true
      },
      "application/vnd.jupyter.widget-view+json": {
       "model_id": "082447dcac7d4ecc9c0e902f24eebfd2",
       "version_major": 2,
       "version_minor": 0
      },
      "text/plain": [
       "Download file logs/validation/events.out.tfevents.1702249040.ASUS.29184.1.v2: 100%|##########| 354/354 [00:00<…"
      ]
     },
     "metadata": {},
     "output_type": "display_data"
    },
    {
     "data": {
      "application/json": {
       "ascii": false,
       "bar_format": null,
       "colour": null,
       "elapsed": 0.015000104904174805,
       "initial": 354,
       "n": 354,
       "ncols": null,
       "nrows": 28,
       "postfix": null,
       "prefix": "Clean file logs/validation/events.out.tfevents.1702249040.ASUS.29184.1.v2",
       "rate": null,
       "total": 354,
       "unit": "B",
       "unit_divisor": 1024,
       "unit_scale": true
      },
      "application/vnd.jupyter.widget-view+json": {
       "model_id": "5a588c4fce774f30a8215a1f0912c224",
       "version_major": 2,
       "version_minor": 0
      },
      "text/plain": [
       "Clean file logs/validation/events.out.tfevents.1702249040.ASUS.29184.1.v2: 100%|##########| 354/354 [00:00<?, …"
      ]
     },
     "metadata": {},
     "output_type": "display_data"
    },
    {
     "data": {
      "application/json": {
       "ascii": false,
       "bar_format": null,
       "colour": null,
       "elapsed": 0.014191150665283203,
       "initial": 354,
       "n": 354,
       "ncols": null,
       "nrows": 28,
       "postfix": null,
       "prefix": "Download file logs/validation/events.out.tfevents.1702083682.ASUS.20804.1.v2",
       "rate": null,
       "total": 354,
       "unit": "B",
       "unit_divisor": 1024,
       "unit_scale": true
      },
      "application/vnd.jupyter.widget-view+json": {
       "model_id": "bba005cf98cc47d19c5b714f07b3d7ff",
       "version_major": 2,
       "version_minor": 0
      },
      "text/plain": [
       "Download file logs/validation/events.out.tfevents.1702083682.ASUS.20804.1.v2: 100%|##########| 354/354 [00:00<…"
      ]
     },
     "metadata": {},
     "output_type": "display_data"
    },
    {
     "data": {
      "application/json": {
       "ascii": false,
       "bar_format": null,
       "colour": null,
       "elapsed": 0.014801025390625,
       "initial": 354,
       "n": 354,
       "ncols": null,
       "nrows": 28,
       "postfix": null,
       "prefix": "Clean file logs/validation/events.out.tfevents.1702083682.ASUS.20804.1.v2",
       "rate": null,
       "total": 354,
       "unit": "B",
       "unit_divisor": 1024,
       "unit_scale": true
      },
      "application/vnd.jupyter.widget-view+json": {
       "model_id": "6ceaec70d1b44c6e8b8081140fe8eab4",
       "version_major": 2,
       "version_minor": 0
      },
      "text/plain": [
       "Clean file logs/validation/events.out.tfevents.1702083682.ASUS.20804.1.v2: 100%|##########| 354/354 [00:00<?, …"
      ]
     },
     "metadata": {},
     "output_type": "display_data"
    },
    {
     "data": {
      "application/json": {
       "ascii": false,
       "bar_format": null,
       "colour": null,
       "elapsed": 0.017663002014160156,
       "initial": 1024,
       "n": 1024,
       "ncols": null,
       "nrows": 28,
       "postfix": null,
       "prefix": "Clean file tf_model.h5",
       "rate": null,
       "total": 343472824,
       "unit": "B",
       "unit_divisor": 1024,
       "unit_scale": true
      },
      "application/vnd.jupyter.widget-view+json": {
       "model_id": "aa681809d9fb4b49a875c410f73274a3",
       "version_major": 2,
       "version_minor": 0
      },
      "text/plain": [
       "Clean file tf_model.h5:   0%|          | 1.00k/328M [00:00<?, ?B/s]"
      ]
     },
     "metadata": {},
     "output_type": "display_data"
    }
   ],
   "source": [
    "import os\n",
    "from transformers.keras_callbacks import PushToHubCallback\n",
    "from tensorflow.keras.callbacks import TensorBoard as TensorboardCallback, EarlyStopping\n",
    "\n",
    "callbacks=[]\n",
    "\n",
    "callbacks.append(TensorboardCallback(log_dir=os.path.join(output_dir,\"logs\")))\n",
    "callbacks.append(EarlyStopping(monitor=\"val_accuracy\",patience=5,restore_best_weights=True,verbose=1))\n",
    "if hub_token:\n",
    "    callbacks.append(PushToHubCallback(output_dir=output_dir,\n",
    "                                     hub_model_id=hub_model_id,\n",
    "                                     hub_token=hub_token))\n",
    "\n"
   ]
  },
  {
   "cell_type": "code",
   "execution_count": 30,
   "id": "36a9f0ce",
   "metadata": {},
   "outputs": [
    {
     "name": "stdout",
     "output_type": "stream",
     "text": [
      "Epoch 1/20\n",
      "8/8 [==============================] - 68s 6s/step - loss: 1.0989 - accuracy: 0.3875 - val_loss: 1.0572 - val_accuracy: 0.5417\n",
      "Epoch 2/20\n",
      "8/8 [==============================] - 31s 4s/step - loss: 0.9700 - accuracy: 0.7917 - val_loss: 1.0065 - val_accuracy: 0.5833\n",
      "Epoch 3/20\n",
      "8/8 [==============================] - 31s 4s/step - loss: 0.8604 - accuracy: 0.8542 - val_loss: 0.9550 - val_accuracy: 0.6500\n",
      "Epoch 4/20\n",
      "8/8 [==============================] - 31s 4s/step - loss: 0.7561 - accuracy: 0.9125 - val_loss: 0.9141 - val_accuracy: 0.6250\n",
      "Epoch 5/20\n",
      "8/8 [==============================] - 31s 4s/step - loss: 0.6620 - accuracy: 0.9458 - val_loss: 0.8777 - val_accuracy: 0.6417\n",
      "Epoch 6/20\n",
      "8/8 [==============================] - 31s 4s/step - loss: 0.5738 - accuracy: 0.9750 - val_loss: 0.8455 - val_accuracy: 0.6500\n",
      "Epoch 7/20\n",
      "8/8 [==============================] - 31s 4s/step - loss: 0.4924 - accuracy: 0.9917 - val_loss: 0.8106 - val_accuracy: 0.6333\n",
      "Epoch 8/20\n",
      "8/8 [==============================] - 31s 4s/step - loss: 0.4206 - accuracy: 0.9958 - val_loss: 0.7821 - val_accuracy: 0.6583\n",
      "Epoch 9/20\n",
      "8/8 [==============================] - 75s 10s/step - loss: 0.3601 - accuracy: 1.0000 - val_loss: 0.7686 - val_accuracy: 0.6833\n",
      "Epoch 10/20\n",
      "8/8 [==============================] - 31s 4s/step - loss: 0.3109 - accuracy: 1.0000 - val_loss: 0.7483 - val_accuracy: 0.6333\n",
      "Epoch 11/20\n",
      "8/8 [==============================] - 31s 4s/step - loss: 0.2714 - accuracy: 1.0000 - val_loss: 0.7371 - val_accuracy: 0.6667\n",
      "Epoch 12/20\n",
      "8/8 [==============================] - 31s 4s/step - loss: 0.2376 - accuracy: 1.0000 - val_loss: 0.7283 - val_accuracy: 0.6750\n",
      "Epoch 13/20\n",
      "8/8 [==============================] - 31s 4s/step - loss: 0.2120 - accuracy: 1.0000 - val_loss: 0.7220 - val_accuracy: 0.6750\n",
      "Epoch 14/20\n",
      "8/8 [==============================] - ETA: 0s - loss: 0.1922 - accuracy: 1.0000Restoring model weights from the end of the best epoch: 9.\n",
      "8/8 [==============================] - 32s 4s/step - loss: 0.1922 - accuracy: 1.0000 - val_loss: 0.7203 - val_accuracy: 0.6750\n",
      "Epoch 14: early stopping\n"
     ]
    }
   ],
   "source": [
    "train_results = model.fit(\n",
    "    tf_train_dataset,\n",
    "    validation_data=tf_eval_dataset,\n",
    "    callbacks=callbacks,\n",
    "    epochs=num_train_epochs,\n",
    "    shuffle=True\n",
    ")"
   ]
  },
  {
   "cell_type": "code",
   "execution_count": 31,
   "id": "bd956598",
   "metadata": {},
   "outputs": [
    {
     "data": {
      "text/plain": [
       "'https://huggingface.co/jayashprasad/vit-base-patch16-224-in21k-rock360/blob/main/preprocessor_config.json'"
      ]
     },
     "execution_count": 31,
     "metadata": {},
     "output_type": "execute_result"
    }
   ],
   "source": [
    "from huggingface_hub import HfApi\n",
    "\n",
    "api = HfApi()\n",
    "\n",
    "user = api.whoami(hub_token)\n",
    "\n",
    "\n",
    "feature_extractor.save_pretrained(output_dir)\n",
    "\n",
    "api.upload_file(\n",
    "    token=hub_token,\n",
    "    repo_id=f\"{user['name']}/{hub_model_id}\",\n",
    "    path_or_fileobj=os.path.join(output_dir,\"preprocessor_config.json\"),\n",
    "    path_in_repo=\"preprocessor_config.json\",\n",
    ")\n"
   ]
  },
  {
   "cell_type": "code",
   "execution_count": 32,
   "id": "9e0c74b7",
   "metadata": {},
   "outputs": [],
   "source": [
    "img_360_rgb = tf.transpose(img_360_rgb, perm=[0, 3, 1, 2])\n",
    "img_120_rgb = tf.transpose(img_120_rgb, perm=[0, 3, 1, 2])"
   ]
  },
  {
   "cell_type": "code",
   "execution_count": 33,
   "id": "ff9965c0",
   "metadata": {},
   "outputs": [
    {
     "name": "stdout",
     "output_type": "stream",
     "text": [
      "12/12 [==============================] - 5s 136ms/step\n",
      "4/4 [==============================] - 1s 131ms/step\n"
     ]
    }
   ],
   "source": [
    "activations_train = mds_model.predict(img_360_rgb)\n",
    "activations_val = mds_model.predict(img_120_rgb)"
   ]
  },
  {
   "cell_type": "code",
   "execution_count": 34,
   "id": "cae7a0e6",
   "metadata": {},
   "outputs": [
    {
     "data": {
      "text/plain": [
       "(360, 8)"
      ]
     },
     "execution_count": 34,
     "metadata": {},
     "output_type": "execute_result"
    }
   ],
   "source": [
    "activations_train.shape"
   ]
  },
  {
   "cell_type": "code",
   "execution_count": 35,
   "id": "f49393f2",
   "metadata": {},
   "outputs": [
    {
     "data": {
      "text/plain": [
       "(360, 8)"
      ]
     },
     "execution_count": 35,
     "metadata": {},
     "output_type": "execute_result"
    }
   ],
   "source": [
    "with open('mds_360.txt','r') as f:\n",
    "    arr = f.read().strip().split('\\n')\n",
    "\n",
    "mds_360 = []\n",
    "for i in arr:\n",
    "    mds_360.append(i.strip().split('  '))\n",
    "\n",
    "mds_360 = np.array(mds_360)\n",
    "mds_360.shape"
   ]
  },
  {
   "cell_type": "code",
   "execution_count": 36,
   "id": "fff7ba4a",
   "metadata": {},
   "outputs": [
    {
     "data": {
      "text/plain": [
       "(120, 8)"
      ]
     },
     "execution_count": 36,
     "metadata": {},
     "output_type": "execute_result"
    }
   ],
   "source": [
    "with open('mds_120.txt','r') as f:\n",
    "    arr = f.read().strip().split('\\n')\n",
    "\n",
    "mds_120 = []\n",
    "for i in arr:\n",
    "    mds_120.append(i.strip().split(' '))\n",
    "\n",
    "mds_120 = np.array(mds_120)\n",
    "mds_120.shape"
   ]
  },
  {
   "cell_type": "code",
   "execution_count": 37,
   "id": "c388c5b1",
   "metadata": {},
   "outputs": [
    {
     "name": "stdout",
     "output_type": "stream",
     "text": [
      "Disparity from MDS 360: 0.8187035941238407\n"
     ]
    }
   ],
   "source": [
    "mtx1, mtx2, disparity = procrustes(mds_360, activations_train)\n",
    "print(\"Disparity from MDS 360: \"+str(disparity))"
   ]
  },
  {
   "cell_type": "code",
   "execution_count": 38,
   "id": "8cc53c36",
   "metadata": {},
   "outputs": [],
   "source": [
    "cnn_human_comp = pd.DataFrame()\n",
    "cnn_human_comp['Dimension'] = range(1, mtx1.shape[1] + 1)"
   ]
  },
  {
   "cell_type": "code",
   "execution_count": 39,
   "id": "8b6a43d3",
   "metadata": {},
   "outputs": [],
   "source": [
    "corr_coeff = np.zeros(mtx1.shape[1])\n",
    "avg_train_coeff = 0\n",
    "for i in range(mtx1.shape[1]):\n",
    "    corr_coeff[i] = np.corrcoef(mtx1[:, i], mtx2[:, i])[0, 1]\n",
    "    avg_train_coeff += corr_coeff[i]\n",
    "cnn_human_comp[\"Train\"] = corr_coeff\n",
    "avg_train_coeff = avg_train_coeff/mtx1.shape[1]"
   ]
  },
  {
   "cell_type": "code",
   "execution_count": 40,
   "id": "d0c5b1ae",
   "metadata": {},
   "outputs": [
    {
     "name": "stdout",
     "output_type": "stream",
     "text": [
      "Disparity from MDS 120: 0.803113422312189\n"
     ]
    }
   ],
   "source": [
    "mtx1, mtx2, disparity = procrustes(mds_120, activations_val)\n",
    "print(\"Disparity from MDS 120: \"+str(disparity))"
   ]
  },
  {
   "cell_type": "code",
   "execution_count": 41,
   "id": "e2250370",
   "metadata": {},
   "outputs": [],
   "source": [
    "corr_coeff = np.zeros(mtx1.shape[1])\n",
    "avg_test_coeff = 0\n",
    "for i in range(mtx1.shape[1]):\n",
    "    corr_coeff[i] = np.corrcoef(mtx1[:, i], mtx2[:, i])[0, 1]\n",
    "    avg_test_coeff+= corr_coeff[i]\n",
    "cnn_human_comp[\"Test\"] = corr_coeff\n",
    "avg_test_coeff = avg_test_coeff/mtx1.shape[1]"
   ]
  },
  {
   "cell_type": "code",
   "execution_count": 42,
   "id": "30190546",
   "metadata": {},
   "outputs": [
    {
     "data": {
      "text/html": [
       "<div>\n",
       "<style scoped>\n",
       "    .dataframe tbody tr th:only-of-type {\n",
       "        vertical-align: middle;\n",
       "    }\n",
       "\n",
       "    .dataframe tbody tr th {\n",
       "        vertical-align: top;\n",
       "    }\n",
       "\n",
       "    .dataframe thead th {\n",
       "        text-align: right;\n",
       "    }\n",
       "</style>\n",
       "<table border=\"1\" class=\"dataframe\">\n",
       "  <thead>\n",
       "    <tr style=\"text-align: right;\">\n",
       "      <th></th>\n",
       "      <th>Train</th>\n",
       "      <th>Test</th>\n",
       "    </tr>\n",
       "    <tr>\n",
       "      <th>Dimension</th>\n",
       "      <th></th>\n",
       "      <th></th>\n",
       "    </tr>\n",
       "  </thead>\n",
       "  <tbody>\n",
       "    <tr>\n",
       "      <th>1</th>\n",
       "      <td>0.635095</td>\n",
       "      <td>0.659669</td>\n",
       "    </tr>\n",
       "    <tr>\n",
       "      <th>2</th>\n",
       "      <td>0.496616</td>\n",
       "      <td>0.426088</td>\n",
       "    </tr>\n",
       "    <tr>\n",
       "      <th>3</th>\n",
       "      <td>0.218076</td>\n",
       "      <td>0.402673</td>\n",
       "    </tr>\n",
       "    <tr>\n",
       "      <th>4</th>\n",
       "      <td>0.338450</td>\n",
       "      <td>0.343896</td>\n",
       "    </tr>\n",
       "    <tr>\n",
       "      <th>5</th>\n",
       "      <td>0.195416</td>\n",
       "      <td>0.363707</td>\n",
       "    </tr>\n",
       "    <tr>\n",
       "      <th>6</th>\n",
       "      <td>0.500461</td>\n",
       "      <td>0.628203</td>\n",
       "    </tr>\n",
       "    <tr>\n",
       "      <th>7</th>\n",
       "      <td>0.353426</td>\n",
       "      <td>0.223170</td>\n",
       "    </tr>\n",
       "    <tr>\n",
       "      <th>8</th>\n",
       "      <td>0.421611</td>\n",
       "      <td>0.314117</td>\n",
       "    </tr>\n",
       "  </tbody>\n",
       "</table>\n",
       "</div>"
      ],
      "text/plain": [
       "              Train      Test\n",
       "Dimension                    \n",
       "1          0.635095  0.659669\n",
       "2          0.496616  0.426088\n",
       "3          0.218076  0.402673\n",
       "4          0.338450  0.343896\n",
       "5          0.195416  0.363707\n",
       "6          0.500461  0.628203\n",
       "7          0.353426  0.223170\n",
       "8          0.421611  0.314117"
      ]
     },
     "execution_count": 42,
     "metadata": {},
     "output_type": "execute_result"
    }
   ],
   "source": [
    "cnn_human_comp.set_index('Dimension')"
   ]
  },
  {
   "cell_type": "code",
   "execution_count": 43,
   "id": "d11385ef",
   "metadata": {},
   "outputs": [
    {
     "name": "stdout",
     "output_type": "stream",
     "text": [
      "0.39489388512995816\n"
     ]
    }
   ],
   "source": [
    "print(avg_train_coeff)"
   ]
  },
  {
   "cell_type": "markdown",
   "id": "c14bb15b",
   "metadata": {},
   "source": [
    "### The Average Correlation Coefficient for Train Dataset of 360 Images is 0.39489388512995816"
   ]
  },
  {
   "cell_type": "code",
   "execution_count": 44,
   "id": "b4141862",
   "metadata": {},
   "outputs": [
    {
     "name": "stdout",
     "output_type": "stream",
     "text": [
      "0.4201902482186779\n"
     ]
    }
   ],
   "source": [
    "print(avg_test_coeff)"
   ]
  },
  {
   "cell_type": "markdown",
   "id": "06de8c91",
   "metadata": {},
   "source": [
    "### The Average Correlation Coefficient for Test Dataset of 120 Images is 0.4201902482186779"
   ]
  },
  {
   "cell_type": "code",
   "execution_count": null,
   "id": "962e9103",
   "metadata": {},
   "outputs": [],
   "source": []
  }
 ],
 "metadata": {
  "kernelspec": {
   "display_name": "Python 3 (ipykernel)",
   "language": "python",
   "name": "python3"
  },
  "language_info": {
   "codemirror_mode": {
    "name": "ipython",
    "version": 3
   },
   "file_extension": ".py",
   "mimetype": "text/x-python",
   "name": "python",
   "nbconvert_exporter": "python",
   "pygments_lexer": "ipython3",
   "version": "3.10.6"
  }
 },
 "nbformat": 4,
 "nbformat_minor": 5
}
